{
 "cells": [
  {
   "cell_type": "markdown",
   "id": "2efb7495",
   "metadata": {},
   "source": [
    "## Virtual Environments\n",
    "\n",
    "a) Create a new Conda Environment using a CLI\n",
    "\n",
    "b) Activate it\n",
    "\n",
    "c) Install all the needed packages (numpy, matplotlib, notebook, scipy, PyTorch, scikit-learn, ...)\n",
    "\n",
    "e) Create a new notebook and test your environment by importing the packages wich you just installed\n",
    "\n",
    "d) Save a requirements list of your installed packages\n",
    "\n",
    "f) BONUS: Create a Conda Environment in Anaconda Navigator"
   ]
  },
  {
   "cell_type": "markdown",
   "id": "c8919767",
   "metadata": {
    "ExecuteTime": {
     "end_time": "2021-11-29T17:30:29.473493Z",
     "start_time": "2021-11-29T17:30:29.470489Z"
    }
   },
   "source": [
    "## Plotting with Matplotlib\n",
    "\n",
    "The examples below are mainly in case you don't have your own data. If you have data, replace the examples!"
   ]
  },
  {
   "cell_type": "markdown",
   "id": "46ccbcd6",
   "metadata": {
    "ExecuteTime": {
     "end_time": "2021-12-02T10:31:39.064997Z",
     "start_time": "2021-12-02T10:31:39.056990Z"
    }
   },
   "source": [
    "### Simple Plots\n",
    "\n",
    "a) x/y plot: Create a plot which displays the cubic function for 'continuous' values (using a line) and also only for integers (using a marker of your choice). Add axis labels and a legend.\n",
    "\n",
    "b) Scatter plot: Load 'data_exercise_b1.npy', 'data_exercise_b2.npy', Load 'data_exercise_b3.npy' and plot as a scatter plot.'\n",
    "\n",
    "c) Contourplot (advanced): Create a 2D Gauss profile and display as a contourplot (function: contour or contourf) and an image (functions: imshow or pcolor)."
   ]
  },
  {
   "cell_type": "code",
   "execution_count": null,
   "id": "5849f316",
   "metadata": {
    "ExecuteTime": {
     "end_time": "2021-12-07T09:29:37.991926Z",
     "start_time": "2021-12-07T09:29:37.976913Z"
    }
   },
   "outputs": [],
   "source": [
    "import numpy as np\n",
    "import matplotlib.pyplot as plt"
   ]
  },
  {
   "cell_type": "markdown",
   "id": "9b94641f",
   "metadata": {
    "ExecuteTime": {
     "end_time": "2021-11-29T17:36:28.437470Z",
     "start_time": "2021-11-29T17:36:28.431465Z"
    }
   },
   "source": [
    "### Line Plot with Inset\n",
    "\n",
    "a) Open the 'co2_concentration' data set from vega_datasets and plot the CO2 concentration vs the dates.\n",
    "\n",
    "b) Change the figuresize, add x- and y- axis labels,  use LaTeX notation (e.g. for the subscript in CO2).\n",
    "    \n",
    "c) Create an inset with a zoom, showing the annual CO$_2$ concentration fluctuation.\n",
    "    \n",
    "d) Adjust the plot to your taste."
   ]
  },
  {
   "cell_type": "code",
   "execution_count": null,
   "id": "3befc696",
   "metadata": {
    "ExecuteTime": {
     "end_time": "2021-12-07T09:29:38.151070Z",
     "start_time": "2021-12-07T09:29:38.136057Z"
    }
   },
   "outputs": [],
   "source": [
    "# Reading the co2_concentration data set\n",
    "from vega_datasets import data\n",
    "dir(data)"
   ]
  },
  {
   "cell_type": "markdown",
   "id": "bf140ede",
   "metadata": {
    "ExecuteTime": {
     "end_time": "2021-11-29T17:35:12.557438Z",
     "start_time": "2021-11-29T17:35:12.541950Z"
    }
   },
   "source": [
    "### Subplots and Customized Plot Style\n",
    "\n",
    "a) Read the 'xas.XANES.K.Fe(CO)5.mp-617170.tsv' file , which we downloaded from https://materialsproject.org/materials/mp-616561/. Use pandas and the pandas.read_csf function. It contains the K-edga X-ray absorption spectra (XAS) of Fe(CO)5. Columns 1&2 are the energy and intensity of the XAS of Fe. Col 3&4 of C and Col 5&6 of O.\n",
    "\n",
    "b) Plot each of the three absorption edges in a single plot. BONUS: Figure out how to do a 3x1 subplot and combine the three in one figure.\n",
    "\n",
    "c) Adjust axis limits, add axes labels and legends or titles\n",
    "\n",
    "d) Generate a .mplstyle file to customize your plot. Run it in the style context manager and apply to one of your figures."
   ]
  },
  {
   "cell_type": "markdown",
   "id": "58f692a9",
   "metadata": {},
   "source": [
    "## Fitting"
   ]
  },
  {
   "cell_type": "markdown",
   "id": "ab0648b2",
   "metadata": {
    "ExecuteTime": {
     "end_time": "2021-11-30T14:08:38.316364Z",
     "start_time": "2021-11-30T14:08:38.291382Z"
    }
   },
   "source": [
    "### 1D Fit\n",
    "\n",
    "a) Read in the data from the fitting.txt file, plot them\n",
    "\n",
    "b) Fit the data with a polynomial using numpy.polyfit\n",
    "\n",
    "c) Using scipy curve fit, try fitting the data with a single exponential and a superposition of two exponentials\n",
    "\n",
    "d) Compare the chi-square values (sum of quadratic distances of datapoints to fit) for all three fits performed"
   ]
  },
  {
   "cell_type": "code",
   "execution_count": null,
   "id": "ab83e1cb",
   "metadata": {},
   "outputs": [],
   "source": [
    "import numpy as np\n",
    "import scipy as sp\n",
    "import matplotlib.pyplot as plt\n",
    "import scipy.ndimage"
   ]
  },
  {
   "cell_type": "markdown",
   "id": "bd0c70ef",
   "metadata": {},
   "source": [
    "### 2D / Advanced fitting\n",
    "\n",
    "a) Load the gaussians_2d file, the y_axis and x_axis and plot the data (e.g. using matplotlib.pyplot.pcolor)\n",
    "\n",
    "b) Write a function which returns a 2D gaussian profile. Test your function by plotting.\n",
    "\n",
    "c) Write a function which returns a superposition of two 2D gaussian profiles. Test it.\n",
    "\n",
    "d) Estimate the positions (x0,y0) and widths of the two gaussians in the data set \n",
    "\n",
    "e) Write a loss function with the data and your model (your model = the superposition of two gaussians).\n",
    "\n",
    "f) Minimize the loss function.\n",
    "\n",
    "g) Plot the fit result and the residual (= difference between your optimized model and the data).\n",
    "\n",
    "h) Test three different optimization methods of the minimize function. Where all of them successful? Compare the fit results! (BONUS: use the magic function \"%timeit\" to test the speed of all three)"
   ]
  },
  {
   "cell_type": "code",
   "execution_count": null,
   "id": "a07d8795",
   "metadata": {},
   "outputs": [],
   "source": [
    "import numpy as np\n",
    "import matplotlib.pyplot as plt\n",
    "from scipy.optimize import minimize"
   ]
  },
  {
   "cell_type": "markdown",
   "id": "2049bb39",
   "metadata": {},
   "source": [
    "## Filtering"
   ]
  },
  {
   "cell_type": "markdown",
   "id": "285f285b",
   "metadata": {},
   "source": [
    "a) Open the data in filtering.txt, plot the data.\n",
    "\n",
    "b) Filter the data the i) savgol, ii) moving average and iii) rebinning. Adjust the options in each case for optimization (window sizes, polynomial degrees etc.).\n",
    "\n",
    "c) BONUS: Use Fourier filtering to distinguish noise from the signal. How many frequencies are visible?\n",
    "\n",
    "d) BONUS: Compare c) to the Fourier filtered signal (after back Fourier transfrom). What can you say about the phases?"
   ]
  },
  {
   "cell_type": "code",
   "execution_count": null,
   "id": "ca8b2d7d",
   "metadata": {
    "ExecuteTime": {
     "end_time": "2021-12-03T11:52:13.968367Z",
     "start_time": "2021-12-03T11:52:13.814227Z"
    }
   },
   "outputs": [],
   "source": [
    "from scipy.signal import savgol_filter"
   ]
  }
 ],
 "metadata": {
  "kernelspec": {
   "display_name": "Python 3 (ipykernel)",
   "language": "python",
   "name": "python3"
  },
  "language_info": {
   "codemirror_mode": {
    "name": "ipython",
    "version": 3
   },
   "file_extension": ".py",
   "mimetype": "text/x-python",
   "name": "python",
   "nbconvert_exporter": "python",
   "pygments_lexer": "ipython3",
   "version": "3.9.7"
  },
  "toc": {
   "base_numbering": 1,
   "nav_menu": {},
   "number_sections": true,
   "sideBar": true,
   "skip_h1_title": false,
   "title_cell": "Table of Contents",
   "title_sidebar": "Contents",
   "toc_cell": false,
   "toc_position": {
    "height": "calc(100% - 180px)",
    "left": "10px",
    "top": "150px",
    "width": "293.7px"
   },
   "toc_section_display": true,
   "toc_window_display": true
  }
 },
 "nbformat": 4,
 "nbformat_minor": 5
}
